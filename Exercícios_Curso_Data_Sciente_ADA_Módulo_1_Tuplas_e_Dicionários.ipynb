{
  "cells": [
    {
      "cell_type": "markdown",
      "metadata": {
        "id": "view-in-github",
        "colab_type": "text"
      },
      "source": [
        "<a href=\"https://colab.research.google.com/github/brunamanzi/Aulas.CursoemVideo/blob/master/Exerc%C3%ADcios_Curso_Data_Sciente_ADA_M%C3%B3dulo_1_Tuplas_e_Dicion%C3%A1rios.ipynb\" target=\"_parent\"><img src=\"https://colab.research.google.com/assets/colab-badge.svg\" alt=\"Open In Colab\"/></a>"
      ]
    },
    {
      "cell_type": "markdown",
      "source": [
        "## exercícios tuplas, dicionários"
      ],
      "metadata": {
        "id": "VyMwse0UUIPO"
      }
    },
    {
      "cell_type": "markdown",
      "source": [
        "1) Crie um dicionário para as seguintes relações:\n",
        "\n",
        "<center>\n",
        "\n",
        ". |  |\n",
        "--- | --- |\n",
        "banana| 3.0 |\n",
        "cebola | 4.0 |\n",
        "maçã | 5.7\n",
        "abacaxi | 8.0\n",
        "\n",
        "\n",
        "</center>"
      ],
      "metadata": {
        "id": "CHB_o1_k8cPK"
      }
    },
    {
      "cell_type": "code",
      "source": [
        "frutas = {'banana':3.0,'cebola':4.0,'maçã':5.7,'abacaxi':8.0}\n",
        "frutas"
      ],
      "metadata": {
        "id": "_39EMOxDCUB3",
        "colab": {
          "base_uri": "https://localhost:8080/"
        },
        "outputId": "0c121de7-1353-4ae6-be26-e109db3c0cf9"
      },
      "execution_count": null,
      "outputs": [
        {
          "output_type": "execute_result",
          "data": {
            "text/plain": [
              "{'banana': 3.0, 'cebola': 4.0, 'maçã': 5.7, 'abacaxi': 8.0}"
            ]
          },
          "metadata": {},
          "execution_count": 11
        }
      ]
    },
    {
      "cell_type": "markdown",
      "source": [
        "2) Altere o valor da chave ‘Maçã’ no dicionário do exercício anterior para 8.6."
      ],
      "metadata": {
        "id": "9-sArzdz8eou"
      }
    },
    {
      "cell_type": "code",
      "source": [
        "frutas['maçã']=8.6\n",
        "frutas"
      ],
      "metadata": {
        "id": "INMswyupCVwl",
        "colab": {
          "base_uri": "https://localhost:8080/"
        },
        "outputId": "50bb898f-b1df-4164-f290-25a78e161b33"
      },
      "execution_count": null,
      "outputs": [
        {
          "output_type": "execute_result",
          "data": {
            "text/plain": [
              "{'banana': 3.0, 'cebola': 4.0, 'maçã': 8.6, 'abacaxi': 8.0}"
            ]
          },
          "metadata": {},
          "execution_count": 2
        }
      ]
    },
    {
      "cell_type": "markdown",
      "source": [
        "3) Faça um código que conte quantas vezes cada elemento aparece em uma lista. Esse código deverá guardar os dados em um dicionário no qual as chaves são os elementos inseridos e os valores são a contagem de quantas vezes esse elemento aparece. ex de output: {\"banana\":2, \"maçã\":1}"
      ],
      "metadata": {
        "id": "nT4xMUCK-yWy"
      }
    },
    {
      "cell_type": "code",
      "source": [
        "lista_frutas = ['banana','maçã','cebola','abacaxi','laranja','laranja','maçã','maçã','cebola']\n",
        "lista_frutas"
      ],
      "metadata": {
        "id": "ll-Tl4mvCZiq",
        "outputId": "0421639d-65b9-4546-ed68-8c1bffceab3c",
        "colab": {
          "base_uri": "https://localhost:8080/"
        }
      },
      "execution_count": null,
      "outputs": [
        {
          "output_type": "execute_result",
          "data": {
            "text/plain": [
              "['banana',\n",
              " 'maçã',\n",
              " 'cebola',\n",
              " 'abacaxi',\n",
              " 'laranja',\n",
              " 'laranja',\n",
              " 'maçã',\n",
              " 'maçã',\n",
              " 'cebola']"
            ]
          },
          "metadata": {},
          "execution_count": 14
        }
      ]
    },
    {
      "cell_type": "code",
      "source": [
        "dict_frutas = dict()\n",
        "for fruta in lista_frutas:\n",
        "  dict_frutas[fruta] = lista_frutas.count(fruta)\n",
        "\n",
        "print(dict_frutas)"
      ],
      "metadata": {
        "id": "iFGIVkJtKKHM",
        "outputId": "76707ab1-4d21-4990-88dc-bd64316789a0",
        "colab": {
          "base_uri": "https://localhost:8080/"
        }
      },
      "execution_count": null,
      "outputs": [
        {
          "output_type": "stream",
          "name": "stdout",
          "text": [
            "{'banana': 1, 'maçã': 3, 'cebola': 2, 'abacaxi': 1, 'laranja': 2}\n"
          ]
        }
      ]
    },
    {
      "cell_type": "markdown",
      "source": [
        "4) Faça  um  código que  receba  múltiplos\n",
        "números inteiros em seguida informe quantos são pares e quantos são ímpares."
      ],
      "metadata": {
        "id": "mXg45HMJZBXQ"
      }
    },
    {
      "cell_type": "code",
      "source": [
        "números = [8,5,3,2,6,7,3,22,45,32,76,89,90,32,11,19,20]\n",
        "números"
      ],
      "metadata": {
        "id": "uYsTqiZzCfTX",
        "colab": {
          "base_uri": "https://localhost:8080/"
        },
        "outputId": "078b19cb-ec99-4075-9b2c-dafe4c00f07a"
      },
      "execution_count": 2,
      "outputs": [
        {
          "output_type": "execute_result",
          "data": {
            "text/plain": [
              "[8, 5, 3, 2, 6, 7, 3, 22, 45, 32, 76, 89, 90, 32, 11, 19, 20]"
            ]
          },
          "metadata": {},
          "execution_count": 2
        }
      ]
    },
    {
      "cell_type": "code",
      "source": [
        "dict_num = {'par':0,'ímpar':0}\n",
        "\n",
        "for número in números:\n",
        "  if número % 2 == 0:\n",
        "    dict_num['par'] += 1\n",
        "  else:\n",
        "    dict_num['ímpar'] += 1\n",
        "\n",
        "dict_num"
      ],
      "metadata": {
        "id": "meznT-s8N-kT",
        "colab": {
          "base_uri": "https://localhost:8080/"
        },
        "outputId": "cd1b5bf1-267f-41b8-fcc1-c2167f3fc5a7"
      },
      "execution_count": 12,
      "outputs": [
        {
          "output_type": "execute_result",
          "data": {
            "text/plain": [
              "{'par': 9, 'ímpar': 8}"
            ]
          },
          "metadata": {},
          "execution_count": 12
        }
      ]
    },
    {
      "cell_type": "markdown",
      "source": [
        "5) faça um código que recebe um elemento a ser encontrado no texto e substitui por outro elemento\n",
        "\n",
        "- pode utilizar o .replace()"
      ],
      "metadata": {
        "id": "X_iKF_33X0VK"
      }
    },
    {
      "cell_type": "code",
      "source": [
        "dados = { 'nome':'Bruna','idade':27,'nacionalidade':'brasileira'}\n",
        "dados"
      ],
      "metadata": {
        "id": "926eSv8XCvB9",
        "colab": {
          "base_uri": "https://localhost:8080/"
        },
        "outputId": "98bd2fb2-0daa-430e-daa0-ddc0c4b217c3"
      },
      "execution_count": 5,
      "outputs": [
        {
          "output_type": "execute_result",
          "data": {
            "text/plain": [
              "{'nome': 'Bruna', 'idade': 27, 'nacionalidade': 'brasileira'}"
            ]
          },
          "metadata": {},
          "execution_count": 5
        }
      ]
    },
    {
      "cell_type": "code",
      "source": [
        "dados['nome']='Roberta'\n",
        "dados"
      ],
      "metadata": {
        "id": "Ken5N2B3NSAw",
        "colab": {
          "base_uri": "https://localhost:8080/"
        },
        "outputId": "b03a3667-aaa2-4fa9-bac8-921c4e6991ca"
      },
      "execution_count": 13,
      "outputs": [
        {
          "output_type": "execute_result",
          "data": {
            "text/plain": [
              "{'nome': 'Roberta', 'idade': 27, 'nacionalidade': 'brasileira'}"
            ]
          },
          "metadata": {},
          "execution_count": 13
        }
      ]
    },
    {
      "cell_type": "markdown",
      "source": [
        "6) Faça  um  código  contador  de\n",
        "palavras.  O  usuário  vai  inserir  um  texto  qualquer  e  o  programa  vai  contar  a\n",
        "quantidade de cada palavra no texto, armazenando o resultado em um dicionário\n",
        "e exibindo o resultado para o usuário.\n",
        "- caso queira pode utilizar o .split() e .replace()"
      ],
      "metadata": {
        "id": "UThmKFrwZDVJ"
      }
    },
    {
      "cell_type": "code",
      "source": [
        "texto = input('Insira um texto qualquer: ')\n",
        "palavras = texto.split()\n",
        "qtd_palavras = {'palavras':0}\n",
        "for palavra in palavras:\n",
        "  qtd_palavras['palavras'] += 1\n",
        "\n",
        "qtd_palavras\n",
        "\n"
      ],
      "metadata": {
        "id": "gNwm7q60C_bk",
        "colab": {
          "base_uri": "https://localhost:8080/"
        },
        "outputId": "559732bc-2e89-4d48-faba-9e810503966e"
      },
      "execution_count": 18,
      "outputs": [
        {
          "name": "stdout",
          "output_type": "stream",
          "text": [
            "Insira um texto qualquer: olá, bom dia! tudo bem?\n"
          ]
        },
        {
          "output_type": "execute_result",
          "data": {
            "text/plain": [
              "{'palavras': 5}"
            ]
          },
          "metadata": {},
          "execution_count": 18
        }
      ]
    },
    {
      "cell_type": "markdown",
      "source": [
        "7) Faça  um  código  para  criar  uma\n",
        "agenda telefônica. O programa deve armazenar o nome e um ou mais telefones\n",
        "do  contato.  Em  seguida,  o  usuário  vai  informar  o  nome  de  algum  contato\n",
        "armazenado e o programa deve retornar os número(s) do contato\n",
        "- caso queira pode utilizar o método .split()"
      ],
      "metadata": {
        "id": "gt_8Rtq2ZDiC"
      }
    },
    {
      "cell_type": "code",
      "source": [
        "\n",
        "\n"
      ],
      "metadata": {
        "id": "XNIWLguMkqAH"
      },
      "execution_count": null,
      "outputs": []
    },
    {
      "cell_type": "code",
      "source": [],
      "metadata": {
        "id": "VQmNLJdBTJRC"
      },
      "execution_count": null,
      "outputs": []
    },
    {
      "cell_type": "code",
      "source": [],
      "metadata": {
        "id": "p7e6YLGORzqO"
      },
      "execution_count": null,
      "outputs": []
    }
  ],
  "metadata": {
    "kernelspec": {
      "display_name": "Python 3",
      "language": "python",
      "name": "python3"
    },
    "language_info": {
      "codemirror_mode": {
        "name": "ipython",
        "version": 3
      },
      "file_extension": ".py",
      "mimetype": "text/x-python",
      "name": "python",
      "nbconvert_exporter": "python",
      "pygments_lexer": "ipython3",
      "version": "3.8.5"
    },
    "colab": {
      "provenance": [],
      "collapsed_sections": [
        "_9fKt1OGV6UD"
      ],
      "include_colab_link": true
    }
  },
  "nbformat": 4,
  "nbformat_minor": 0
}